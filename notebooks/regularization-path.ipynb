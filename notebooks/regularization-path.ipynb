{
 "cells": [
  {
   "cell_type": "code",
   "execution_count": null,
   "id": "750474ec",
   "metadata": {},
   "outputs": [],
   "source": [
    "\"\"\"\n",
    "Explore regularization path using warm starts and convex optimization.\n",
    "\"\"\"\n",
    "\n",
    "import sys\n",
    "sys.path.append(\"..\")"
   ]
  },
  {
   "cell_type": "code",
   "execution_count": null,
   "id": "6284d725",
   "metadata": {},
   "outputs": [],
   "source": [
    "import numpy as np\n",
    "import matplotlib.pyplot as plt\n",
    "\n",
    "from scnn.optimize import optimize_path\n",
    "from scnn.private.utils.data import gen_classification_data\n",
    "from scnn.models import ConvexGatedReLU, ConvexReLU\n",
    "from scnn.solvers import RFISTA, AL\n",
    "from scnn.regularizers import NeuronGL1\n",
    "from scnn.metrics import Metrics\n",
    "from scnn.activations import sample_gate_vectors"
   ]
  },
  {
   "cell_type": "code",
   "execution_count": null,
   "id": "bf47351b",
   "metadata": {},
   "outputs": [],
   "source": [
    "# Generate realizable synthetic classification problem (ie. Figure 1)\n",
    "n_train = 250\n",
    "n_test = 250\n",
    "d = 50\n",
    "hidden_units = 100\n",
    "kappa = 10  # condition number\n",
    "\n",
    "(X_train, y_train), (X_test, y_test) = gen_classification_data(123, n_train, n_test, d, hidden_units, kappa)"
   ]
  },
  {
   "cell_type": "code",
   "execution_count": null,
   "id": "342a4d88",
   "metadata": {},
   "outputs": [],
   "source": [
    "# Instantiate convex model and other options.\n",
    "max_neurons = 500\n",
    "lambda_path = [0.1, 0.01, 0.001, 0.0001, 0.00001]\n",
    "\n",
    "G = sample_gate_vectors(np.random.default_rng(123), d, max_neurons)\n",
    "path = [NeuronGL1(lam) for lam in lambda_path]\n",
    "metrics = Metrics(metric_freq=25, model_loss=True, train_accuracy=True, train_mse=True, test_mse=True, test_accuracy=True, neuron_sparsity=True)"
   ]
  },
  {
   "cell_type": "markdown",
   "id": "31626ffd",
   "metadata": {},
   "source": [
    "# 1. Gated ReLU Models"
   ]
  },
  {
   "cell_type": "code",
   "execution_count": null,
   "id": "f271b963",
   "metadata": {},
   "outputs": [],
   "source": [
    "model = ConvexGatedReLU(G)\n",
    "solver = RFISTA(model, tol=1e-6)"
   ]
  },
  {
   "cell_type": "code",
   "execution_count": null,
   "id": "2ae33372",
   "metadata": {
    "scrolled": true
   },
   "outputs": [],
   "source": [
    "gated_model_path, gated_metric_path = optimize_path(\n",
    "    model,\n",
    "    solver,\n",
    "    path,\n",
    "    metrics,\n",
    "    X_train, \n",
    "    y_train, \n",
    "    X_test, \n",
    "    y_test,\n",
    "    verbose=True,\n",
    ")"
   ]
  },
  {
   "cell_type": "markdown",
   "id": "0ec4a8b5",
   "metadata": {},
   "source": [
    "# 2. ReLU Models"
   ]
  },
  {
   "cell_type": "code",
   "execution_count": null,
   "id": "b938567e",
   "metadata": {},
   "outputs": [],
   "source": [
    "model = ConvexReLU(G)\n",
    "solver = AL(model)"
   ]
  },
  {
   "cell_type": "code",
   "execution_count": null,
   "id": "728221e2",
   "metadata": {
    "scrolled": true
   },
   "outputs": [],
   "source": [
    "relu_model_path, relu_metric_path = optimize_path(\n",
    "    model,\n",
    "    solver,\n",
    "    path,\n",
    "    metrics,\n",
    "    X_train, \n",
    "    y_train, \n",
    "    X_test, \n",
    "    y_test,\n",
    "    verbose=True,\n",
    ")"
   ]
  },
  {
   "cell_type": "code",
   "execution_count": null,
   "id": "28be6840",
   "metadata": {},
   "outputs": [],
   "source": [
    "# extract summary statistics:\n",
    "gated_accuracies = [metrics.train_accuracy[-1] for metrics in gated_metric_path]\n",
    "gated_sparsities = [metrics.neuron_sparsity[-1] for metrics in gated_metric_path]\n",
    "\n",
    "relu_accuracies = [metrics.train_accuracy[-1] for metrics in relu_metric_path]\n",
    "relu_sparsities = [metrics.neuron_sparsity[-1] for metrics in relu_metric_path]"
   ]
  },
  {
   "cell_type": "code",
   "execution_count": null,
   "id": "6f674660",
   "metadata": {},
   "outputs": [],
   "source": [
    "# Plot Results\n",
    "\n",
    "fig = plt.figure(figsize=(18,6))\n",
    "spec = fig.add_gridspec(ncols=2, nrows=1)\n",
    "ax0 = fig.add_subplot(spec[0, 0])\n",
    "\n",
    "ax0.plot(np.flip(lambda_path), \n",
    "         np.flip(relu_accuracies), \n",
    "         label=\"Relu\", \n",
    "         color=\"#ff7f0e\",\n",
    "         marker=\"^\",\n",
    "         markevery=1,\n",
    "         markersize=14,\n",
    "         linewidth=\"3\")\n",
    "\n",
    "ax0.plot(np.flip(lambda_path), \n",
    "         np.flip(gated_accuracies), \n",
    "         label=\"Gated Relu\", \n",
    "         color=\"#1f77b4\",\n",
    "         marker=\"v\", \n",
    "         markevery=1,\n",
    "         markersize=14,\n",
    "         linewidth=\"3\")\n",
    "\n",
    "ax0.set_title(\"Test Accuracy\", fontsize=22)\n",
    "ax0.set_xlabel(\"Regularization Strength\", fontsize=18)\n",
    "ax0.set_xscale(\"log\")\n",
    "\n",
    "ax1 = fig.add_subplot(spec[0, 1])\n",
    "\n",
    "ax1.plot(np.flip(lambda_path), \n",
    "         np.flip(relu_sparsities), \n",
    "         label=\"Relu\", \n",
    "         color=\"#ff7f0e\",\n",
    "         marker=\"^\",\n",
    "         markevery=1,\n",
    "         markersize=14,\n",
    "         linewidth=\"3\")\n",
    "\n",
    "ax1.plot(np.flip(lambda_path), \n",
    "         np.flip(gated_sparsities), \n",
    "         label=\"Gated Relu\", \n",
    "         color=\"#1f77b4\",\n",
    "         marker=\"v\", \n",
    "         markevery=1,\n",
    "         markersize=14,\n",
    "         linewidth=\"3\")\n",
    "\n",
    "ax1.set_title(\"Neuron Sparsity\", fontsize=22)\n",
    "ax1.set_xlabel(\"Regularization Strength\", fontsize=18)\n",
    "ax1.set_xscale(\"log\")\n",
    "handles, labels = ax0.get_legend_handles_labels()\n",
    "legend = fig.legend(\n",
    "    handles=handles,\n",
    "    labels=labels,\n",
    "    loc=\"lower center\",\n",
    "    borderaxespad=0.1,\n",
    "    fancybox=False,\n",
    "    shadow=False,\n",
    "    ncol=2,\n",
    "    fontsize=16,\n",
    "    frameon=False,\n",
    ")\n",
    "fig.subplots_adjust(\n",
    "    bottom=0.15,\n",
    ")"
   ]
  }
 ],
 "metadata": {
  "kernelspec": {
   "display_name": "Python 3 (ipykernel)",
   "language": "python",
   "name": "python3"
  },
  "language_info": {
   "codemirror_mode": {
    "name": "ipython",
    "version": 3
   },
   "file_extension": ".py",
   "mimetype": "text/x-python",
   "name": "python",
   "nbconvert_exporter": "python",
   "pygments_lexer": "ipython3",
   "version": "3.9.13"
  }
 },
 "nbformat": 4,
 "nbformat_minor": 5
}
